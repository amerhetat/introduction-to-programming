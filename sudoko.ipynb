{
  "nbformat": 4,
  "nbformat_minor": 0,
  "metadata": {
    "colab": {
      "provenance": [],
      "authorship_tag": "ABX9TyMtujvtdNiSJSfn5qtQ2vyG",
      "include_colab_link": true
    },
    "kernelspec": {
      "name": "python3",
      "display_name": "Python 3"
    },
    "language_info": {
      "name": "python"
    }
  },
  "cells": [
    {
      "cell_type": "markdown",
      "metadata": {
        "id": "view-in-github",
        "colab_type": "text"
      },
      "source": [
        "<a href=\"https://colab.research.google.com/github/amerhetat/introduction-to-programming/blob/main/sudoko.ipynb\" target=\"_parent\"><img src=\"https://colab.research.google.com/assets/colab-badge.svg\" alt=\"Open In Colab\"/></a>"
      ]
    },
    {
      "cell_type": "code",
      "execution_count": 51,
      "metadata": {
        "colab": {
          "base_uri": "https://localhost:8080/"
        },
        "id": "0aA2K27BCYjA",
        "outputId": "286b08c5-f100-482a-eba4-0ededdc0d5e9"
      },
      "outputs": [
        {
          "output_type": "stream",
          "name": "stdout",
          "text": [
            "Overwriting welcome.cpp\n"
          ]
        }
      ],
      "source": [
        "%%writefile welcome.cpp\n",
        "\n",
        "#include <iostream>\n",
        "#include <vector>\n",
        "\n",
        "using namespace std;\n",
        "\n",
        "// Constants\n",
        "const int GRID_SIZE = 9;\n",
        "\n",
        "// Function to print the Sudoku grid\n",
        "void printGrid(const vector<vector<int>>& grid) {\n",
        "    for (int i = 0; i < GRID_SIZE; ++i) {\n",
        "        for (int j = 0; j < GRID_SIZE; ++j) {\n",
        "            cout << grid[i][j] << \" \";\n",
        "        }\n",
        "        cout << endl;\n",
        "    }\n",
        "}\n",
        "// Function to check if a number can be placed in a specific position\n",
        "bool isSafe(const vector<vector<int>>& grid, int row, int col, int num) {\n",
        "    // Check if the number already exists in the same row or column\n",
        "    for (int i = 0; i < GRID_SIZE; ++i) {\n",
        "        if (grid[row][i] == num || grid[i][col] == num) {\n",
        "            return false;\n",
        "        }\n",
        "    }\n",
        "\n",
        "    // Check if the number already exists in the same 3x3 grid\n",
        "    int startRow = row - row % 3;\n",
        "    int startCol = col - col % 3;\n",
        "    for (int i = 0; i < 3; ++i) {\n",
        "        for (int j = 0; j < 3; ++j) {\n",
        "            if (grid[i + startRow][j + startCol] == num) {\n",
        "                return false;\n",
        "            }\n",
        "        }\n",
        "    }\n",
        "\n",
        "    return true;\n",
        "}\n",
        "\n",
        "// Function to solve the Sudoku using backtracking\n",
        "bool solveSudoku(vector<vector<int>>& grid) {\n",
        "    for (int row = 0; row < GRID_SIZE; ++row) {\n",
        "        for (int col = 0; col < GRID_SIZE; ++col) {\n",
        "            // Check if the current cell is empty\n",
        "            if (grid[row][col] == 0) {\n",
        "                // Try all possible numbers in the current cell\n",
        "                for (int num = 1; num <= GRID_SIZE; ++num) {\n",
        "                    if (isSafe(grid, row, col, num)) {\n",
        "                        // Place the number in the current cell\n",
        "                        grid[row][col] = num;\n",
        "\n",
        "                        // Recursively solve the remaining Sudoku\n",
        "                        if (solveSudoku(grid)) {\n",
        "                            return true;  // Solution found\n",
        "                        }\n",
        "\n",
        "                        // If the current placement doesn't lead to a solution,\n",
        "                        // undo the current cell and try the next number\n",
        "                        grid[row][col] = 0;\n",
        "                    }\n",
        "                }\n",
        "\n",
        "                // If no number can be placed in the current cell, backtrack\n",
        "                return false;\n",
        "            }\n",
        "        }\n",
        "    }\n",
        "\n",
        "    return true;  // All cells are filled, solution found\n",
        "}\n",
        "\n",
        "int main() {\n",
        "    // Initialize the Sudoku grid (0 represents empty cells)\n",
        "    vector<vector<int>> grid = {\n",
        "        {5, 3, 0, 0, 7, 0, 0, 0, 0},\n",
        "        {6, 0, 0, 1, 9, 5, 0, 0, 0},\n",
        "        {0, 9, 8, 0, 0, 0, 0, 6, 0},\n",
        "        {8, 0, 0, 0, 6, 0, 0, 0, 3},\n",
        "        {4, 0, 0, 8, 0, 3, 0, 0, 1},\n",
        "        {7, 0, 0, 0, 2, 0, 0, 0, 6},\n",
        "        {0, 6, 0, 0, 0, 0, 2, 8, 0},\n",
        "        {0, 0, 0, 4, 1, 9, 0, 0, 5},\n",
        "        {0, 0, 0, 0, 8, 0, 0, 7, 9}\n",
        "    };\n",
        "\n",
        "    cout << \"Sudoku grid before solving:\" << endl;\n",
        "    printGrid(grid);\n",
        "    cout << endl;\n",
        "\n",
        "    if (solveSudoku(grid)) {\n",
        "        cout << \"Sudoku solved:\" << endl;\n",
        "        printGrid(grid);\n",
        "    } else {\n",
        "        cout << \"No solution exists.\" << endl;\n",
        "    }\n",
        "\n",
        "    return 0;\n",
        "}\n"
      ]
    },
    {
      "cell_type": "code",
      "source": [
        "%%bash \n",
        "\n",
        "g++ welcome.cpp -o welcome \n",
        "./welcome"
      ],
      "metadata": {
        "colab": {
          "base_uri": "https://localhost:8080/"
        },
        "id": "Tn06WeYtCllb",
        "outputId": "df92bde7-6816-47b2-9175-6f1f231fc0b5"
      },
      "execution_count": 52,
      "outputs": [
        {
          "output_type": "stream",
          "name": "stdout",
          "text": [
            "Sudoku grid before solving:\n",
            "5 3 0 0 7 0 0 0 0 \n",
            "6 0 0 1 9 5 0 0 0 \n",
            "0 9 8 0 0 0 0 6 0 \n",
            "8 0 0 0 6 0 0 0 3 \n",
            "4 0 0 8 0 3 0 0 1 \n",
            "7 0 0 0 2 0 0 0 6 \n",
            "0 6 0 0 0 0 2 8 0 \n",
            "0 0 0 4 1 9 0 0 5 \n",
            "0 0 0 0 8 0 0 7 9 \n",
            "\n",
            "Sudoku solved:\n",
            "5 3 4 6 7 8 9 1 2 \n",
            "6 7 2 1 9 5 3 4 8 \n",
            "1 9 8 3 4 2 5 6 7 \n",
            "8 5 9 7 6 1 4 2 3 \n",
            "4 2 6 8 5 3 7 9 1 \n",
            "7 1 3 9 2 4 8 5 6 \n",
            "9 6 1 5 3 7 2 8 4 \n",
            "2 8 7 4 1 9 6 3 5 \n",
            "3 4 5 2 8 6 1 7 9 \n"
          ]
        }
      ]
    }
  ]
}